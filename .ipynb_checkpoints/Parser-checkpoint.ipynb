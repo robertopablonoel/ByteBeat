{
 "cells": [
  {
   "cell_type": "code",
   "execution_count": 1,
   "metadata": {},
   "outputs": [],
   "source": [
    "from tree_lib import *\n",
    "order = {'*':1,'/':1,'%':1,'+':2,'-':2,'>>':3,'<<':3,'&':4,'^':5,'|':6}"
   ]
  },
  {
   "cell_type": "code",
   "execution_count": 2,
   "metadata": {},
   "outputs": [],
   "source": [
    "def spaceOut(exp):\n",
    "    new_exp = []\n",
    "    skip_next = False\n",
    "    i = 0\n",
    "    while i < len(exp):\n",
    "        \n",
    "        if exp[i] == '>':\n",
    "            new_exp.append(\">>\")\n",
    "            i += 2\n",
    "            \n",
    "        elif exp[i] in \"123456789\":\n",
    "            if new_exp[-1] in \"123456789\":\n",
    "                new_exp[-1] += exp[i]\n",
    "            else:\n",
    "                new_exp.append(exp[i])\n",
    "            i += 1\n",
    "                \n",
    "\n",
    "        else:\n",
    "            new_exp.append(exp[i])\n",
    "            i += 1\n",
    "            \n",
    "    new_str = new_exp[0]\n",
    "    for i in range(1,len(new_exp)):\n",
    "        new_str += \" \"\n",
    "        new_str += new_exp[i]\n",
    "    return new_exp "
   ]
  },
  {
   "cell_type": "code",
   "execution_count": 4,
   "metadata": {},
   "outputs": [],
   "source": [
    "def getSubIDX(exp):\n",
    "    \n",
    "    parenth = 1\n",
    "    i = 0\n",
    "    while parenth != 0:\n",
    "        if exp[i] == \"(\":\n",
    "            parenth += 1\n",
    "        elif exp[i] == \")\":\n",
    "            parenth -= 1\n",
    "        i += 1\n",
    "\n",
    "    return i\n",
    "\n",
    "def createTree(expList):\n",
    "    root = Node('?')\n",
    "    opStack = []\n",
    "    varStack = []\n",
    "    ops = {'*':1,'/':1,'%':1,'+':2,'-':2,'>>':3,'<<':3,'&':4,'^':5,'|':6}\n",
    "    i = 0\n",
    "    \n",
    "    \n",
    "    while i < len(expList):\n",
    "        elem = expList[i]\n",
    "        if elem in ops:\n",
    "            opStack.append(elem)\n",
    "            i += 1\n",
    "            \n",
    "        elif elem == \"(\":\n",
    "            \n",
    "            subIDX = getSubIDX(expList[i+1:])\n",
    "            sub = expList[i+1: i+subIDX]\n",
    "            varStack.append(sub)\n",
    "            i += 1 + subIDX\n",
    "            \n",
    "        elif elem == \")\":\n",
    "            i += 1\n",
    "        \n",
    "        else:\n",
    "            varStack.append(elem)\n",
    "            i+= 1\n",
    "            \n",
    "    root._element = opStack.pop()\n",
    "    \n",
    "    if type(varStack[-1]) == type([]):\n",
    "        root._right = createTree(varStack.pop())\n",
    "        \n",
    "    else:\n",
    "        root._right = Node(varStack.pop())\n",
    "    \n",
    "    \n",
    "    \n",
    "    if type(varStack[-1]) == type([]):\n",
    "        root._left = createTree(varStack.pop())\n",
    "        \n",
    "    else:\n",
    "        root._left = Node(varStack.pop())\n",
    "    \n",
    "\n",
    "    \n",
    "    if not(root._left is None or root._right is None):\n",
    "        root._height += max(root._left._height, root._right._height)\n",
    "    \n",
    "        \n",
    "    return root\n",
    "\n",
    "    "
   ]
  },
  {
   "cell_type": "code",
   "execution_count": 5,
   "metadata": {},
   "outputs": [
    {
     "name": "stdout",
     "output_type": "stream",
     "text": [
      "4\n"
     ]
    }
   ],
   "source": [
    "\n",
    "tree = Tree()\n",
    "tree.add_root(createTree(spaceOut(p_expression)))\n",
    "print(tree.height())"
   ]
  },
  {
   "cell_type": "code",
   "execution_count": 11,
   "metadata": {},
   "outputs": [
    {
     "name": "stdout",
     "output_type": "stream",
     "text": [
      "               *                               \n",
      "              / \\               \n",
      "             /   \\              \n",
      "            /     \\             \n",
      "           /       \\            \n",
      "          /         \\           \n",
      "         /           \\          \n",
      "        /             \\         \n",
      "       /               \\        \n",
      "       t               &               \n",
      "                      / \\       \n",
      "                     /   \\      \n",
      "                    /     \\     \n",
      "                   /       \\    \n",
      "                   |       &       \n",
      "                  / \\     / \\   \n",
      "                 /   \\   /   \\  \n",
      "                 >>   >>   63   >>   \n",
      "                / \\ / \\     / \\ \n",
      "                t 12 t 8     t 4 \n",
      "                                                                \n"
     ]
    }
   ],
   "source": [
    "pretty_print(tree)"
   ]
  },
  {
   "cell_type": "code",
   "execution_count": 14,
   "metadata": {},
   "outputs": [],
   "source": [
    "inorder = [x._element for x in tree.inorder()]"
   ]
  },
  {
   "cell_type": "code",
   "execution_count": 15,
   "metadata": {},
   "outputs": [
    {
     "name": "stdout",
     "output_type": "stream",
     "text": [
      "['t', '*', 't', '>>', '12', '|', 't', '>>', '8', '&', '63', '&', 't', '>>', '4']\n"
     ]
    }
   ],
   "source": [
    "p_expression = \"t*((((t>>12)|(t>>8))&63)&(t>>4))\"\n",
    "print(inorder)"
   ]
  },
  {
   "cell_type": "code",
   "execution_count": null,
   "metadata": {},
   "outputs": [],
   "source": []
  },
  {
   "cell_type": "code",
   "execution_count": null,
   "metadata": {},
   "outputs": [],
   "source": []
  },
  {
   "cell_type": "code",
   "execution_count": null,
   "metadata": {},
   "outputs": [],
   "source": []
  },
  {
   "cell_type": "code",
   "execution_count": null,
   "metadata": {},
   "outputs": [],
   "source": []
  },
  {
   "cell_type": "code",
   "execution_count": null,
   "metadata": {},
   "outputs": [],
   "source": []
  }
 ],
 "metadata": {
  "kernelspec": {
   "display_name": "Python 3",
   "language": "python",
   "name": "python3"
  },
  "language_info": {
   "codemirror_mode": {
    "name": "ipython",
    "version": 3
   },
   "file_extension": ".py",
   "mimetype": "text/x-python",
   "name": "python",
   "nbconvert_exporter": "python",
   "pygments_lexer": "ipython3",
   "version": "3.7.1"
  }
 },
 "nbformat": 4,
 "nbformat_minor": 2
}
